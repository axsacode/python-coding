{
 "cells": [
  {
   "cell_type": "markdown",
   "metadata": {},
   "source": [
    "<h3 style = \"text-align:center;font-size:20px;font-weight:bolder\""
   ]
  },
  {
   "cell_type": "markdown",
   "metadata": {},
   "source": [
    "<h3 style=\"text-align:center;font-size:20px;font-weight:bolder\">𝐇𝐨𝐰 𝐓𝐨 𝐑𝐮𝐧 𝐋𝐢𝐧𝐮𝐱 𝐂𝐨𝐦𝐦𝐚𝐧𝐝 𝐈𝐧 𝐏𝐲𝐭𝐡𝐨𝐧❓"
   ]
  },
  {
   "cell_type": "code",
   "execution_count": 1,
   "metadata": {},
   "outputs": [
    {
     "name": "stdout",
     "output_type": "stream",
     "text": [
      "total 6.5M\n",
      "3.0M DevOps.pdf\n",
      "2.2M Copy of Usha-mana Wall.png\n",
      "680K Ansible.pdf\n",
      "440K 𝐖𝐡𝐚𝐭 𝐈𝐬 𝐎𝐎𝐌 𝐊𝐈𝐋𝐋𝐄𝐑 𝐈𝐧 𝐋𝐢𝐧𝐮𝐱❓.png\n",
      " 68K Python Projects For Hacking.jpg\n",
      " 56K MRRO in Inheritane.png\n",
      " 40K 𝑫𝒊𝒇𝒇𝒆𝒓𝒆𝒏𝒄𝒆 𝒃𝒆𝒕𝒘𝒆𝒆𝒏 𝒋𝒖𝒏𝒊𝒐𝒓 𝑽𝑺 𝒔𝒆𝒏𝒊𝒐𝒓 𝒂𝒏𝒅 𝒆𝒙𝒑𝒆𝒓𝒕.jpg\n",
      " 40K Listing File Names Without File Extension In A Directory.png\n",
      " 32K How To Replace Multiple String?.png\n",
      " 12K Social Media\n",
      "4.0K Convert Image To Pencil Sketch\n",
      "4.0K Future Post\n",
      "4.0K How to Utlize ChatGpt\n",
      "4.0K Kubernets Cluster\n",
      "4.0K Social Media Sharing\n",
      "4.0K Usha\n",
      "\n"
     ]
    }
   ],
   "source": [
    "from subprocess import check_output\n",
    "\n",
    "command = 'ls -sSh /home/pi/Upload'\n",
    "output = check_output(command.split())\n",
    "print(output.decode())"
   ]
  },
  {
   "cell_type": "markdown",
   "metadata": {},
   "source": [
    "---"
   ]
  }
 ],
 "metadata": {
  "kernelspec": {
   "display_name": "Python 3",
   "language": "python",
   "name": "python3"
  },
  "language_info": {
   "codemirror_mode": {
    "name": "ipython",
    "version": 3
   },
   "file_extension": ".py",
   "mimetype": "text/x-python",
   "name": "python",
   "nbconvert_exporter": "python",
   "pygments_lexer": "ipython3",
   "version": "3.7.3"
  }
 },
 "nbformat": 4,
 "nbformat_minor": 2
}
