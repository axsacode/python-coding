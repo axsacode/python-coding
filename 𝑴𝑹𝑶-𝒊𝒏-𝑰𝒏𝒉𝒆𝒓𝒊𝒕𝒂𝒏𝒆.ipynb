{
 "cells": [
  {
   "cell_type": "markdown",
   "metadata": {},
   "source": [
    "<h3 style = 'text-align:center; font-size:20px; font-weight:bolder'>𝐌𝐑𝐎(𝑴𝒆𝒕𝒉𝒐𝒅 𝒐𝒇 𝒓𝒆𝒔𝒍𝒐𝒖𝒕𝒊𝒐𝒏 𝒐𝒓𝒅𝒆𝒓) 𝐢𝐧 𝐈𝐧𝐡𝐞𝐫𝐢𝐭𝐚𝐧𝐞"
   ]
  },
  {
   "cell_type": "markdown",
   "metadata": {},
   "source": [
    "**𝐈𝐟 𝐦𝐮𝐥𝐭𝐢𝐩𝐥𝐞 𝐜𝐥𝐚𝐬𝐬𝐞𝐬 𝐮𝐬𝐞 𝐬𝐚𝐦𝐞 𝐟𝐮𝐧𝐜𝐭𝐢𝐨𝐧, 𝐈𝐭 𝐰𝐢𝐥𝐥 𝐛𝐞 𝐫𝐞𝐬𝐨𝐥𝐯𝐞𝐝 𝐖𝐡𝐞𝐧 𝐜𝐡𝐢𝐥𝐝 𝐜𝐥𝐚𝐬𝐬 𝐢𝐧𝐡𝐞𝐫𝐢𝐭 𝐚𝐫𝐠𝐮𝐦𝐞𝐧𝐭 𝐩𝐨𝐬𝐢𝐭𝐢𝐨𝐧 𝐨𝐫𝐝𝐞𝐫.**"
   ]
  },
  {
   "cell_type": "code",
   "execution_count": 4,
   "metadata": {},
   "outputs": [
    {
     "name": "stdout",
     "output_type": "stream",
     "text": [
      "Class B Speaking.\n"
     ]
    }
   ],
   "source": [
    "class A:\n",
    "    def speak(self):\n",
    "        print('Class A Speaking.')\n",
    "        \n",
    "class B:\n",
    "    def speak(self):\n",
    "        print('Class B Speaking.')\n",
    "        \n",
    "class C(B, A):\n",
    "    pass\n",
    "\n",
    "obj = C()\n",
    "obj.speak()"
   ]
  },
  {
   "cell_type": "markdown",
   "metadata": {},
   "source": [
    "---"
   ]
  }
 ],
 "metadata": {
  "kernelspec": {
   "display_name": "Python 3",
   "language": "python",
   "name": "python3"
  },
  "language_info": {
   "codemirror_mode": {
    "name": "ipython",
    "version": 3
   },
   "file_extension": ".py",
   "mimetype": "text/x-python",
   "name": "python",
   "nbconvert_exporter": "python",
   "pygments_lexer": "ipython3",
   "version": "3.7.3"
  }
 },
 "nbformat": 4,
 "nbformat_minor": 2
}
