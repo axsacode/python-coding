{
 "cells": [
  {
   "cell_type": "markdown",
   "metadata": {},
   "source": [
    "<h3 style=\"text-align:center;font-size:20px;font-weight:bolder\">𝐖𝐡𝐚𝐭❜𝐬 𝐭𝐡𝐞 𝐂𝐮𝐫𝐫𝐞𝐧𝐭 𝐃𝐚𝐲 𝐍𝐮𝐦𝐛𝐞𝐫❓"
   ]
  },
  {
   "cell_type": "code",
   "execution_count": 34,
   "metadata": {},
   "outputs": [
    {
     "name": "stdout",
     "output_type": "stream",
     "text": [
      "𝐂𝐮𝐫𝐫𝐞𝐧𝐭 𝐃𝐚𝐲 𝐍𝐮𝐦𝐛𝐞𝐫:183\n"
     ]
    }
   ],
   "source": [
    "from time import strptime,mktime\n",
    "from datetime import datetime\n",
    "\n",
    "time_now = datetime.now().strftime(\"%Y-%m-%d %H:%M:%S\")\n",
    "rslt =strptime(time_string, \"%Y-%m-%d %H:%M:%S\")\n",
    "print(f'𝐂𝐮𝐫𝐫𝐞𝐧𝐭 𝐃𝐚𝐲 𝐍𝐮𝐦𝐛𝐞𝐫:{rslt[7]}')"
   ]
  },
  {
   "cell_type": "markdown",
   "metadata": {},
   "source": [
    "<h3 style=\"text-align:center;font-size:20px;font-weight:bolder\">𝐇𝐨𝐰 𝐌𝐚𝐧𝐲 𝐃𝐚𝐲𝐬 𝐑𝐞𝐦𝐚𝐢𝐧𝐢𝐧𝐠 𝐈𝐧 𝐓𝐡𝐢𝐬 𝐘𝐞𝐚𝐫❓"
   ]
  },
  {
   "cell_type": "code",
   "execution_count": 35,
   "metadata": {},
   "outputs": [
    {
     "name": "stdout",
     "output_type": "stream",
     "text": [
      "𝐑𝐞𝐦𝐚𝐢𝐧𝐢𝐧𝐠 𝐃𝐚𝐲𝐬 𝐈𝐧 𝐓𝐡𝐢𝐬 𝐘𝐞𝐚𝐫: 182 days\n"
     ]
    }
   ],
   "source": [
    "from time import strptime,mktime\n",
    "from datetime import datetime\n",
    "from calendar import isleap\n",
    "\n",
    "time_now = datetime.now().strftime(\"%Y-%m-%d %H:%M:%S\")\n",
    "rslt = strptime(time_string, \"%Y-%m-%d %H:%M:%S\")\n",
    "\n",
    "if isleap(datetime.now().year):\n",
    "    print(f'𝐑𝐞𝐦𝐚𝐢𝐧𝐢𝐧𝐠 𝐃𝐚𝐲𝐬 𝐈𝐧 𝐓𝐡𝐢𝐬 𝐘𝐞𝐚𝐫: { 364 - rslt[7]}')\n",
    "else:\n",
    "    print(f'𝐑𝐞𝐦𝐚𝐢𝐧𝐢𝐧𝐠 𝐃𝐚𝐲𝐬 𝐈𝐧 𝐓𝐡𝐢𝐬 𝐘𝐞𝐚𝐫: {365 - rslt[7]} days')"
   ]
  },
  {
   "cell_type": "markdown",
   "metadata": {},
   "source": [
    "---"
   ]
  }
 ],
 "metadata": {
  "kernelspec": {
   "display_name": "Python 3",
   "language": "python",
   "name": "python3"
  },
  "language_info": {
   "codemirror_mode": {
    "name": "ipython",
    "version": 3
   },
   "file_extension": ".py",
   "mimetype": "text/x-python",
   "name": "python",
   "nbconvert_exporter": "python",
   "pygments_lexer": "ipython3",
   "version": "3.7.3"
  }
 },
 "nbformat": 4,
 "nbformat_minor": 2
}
