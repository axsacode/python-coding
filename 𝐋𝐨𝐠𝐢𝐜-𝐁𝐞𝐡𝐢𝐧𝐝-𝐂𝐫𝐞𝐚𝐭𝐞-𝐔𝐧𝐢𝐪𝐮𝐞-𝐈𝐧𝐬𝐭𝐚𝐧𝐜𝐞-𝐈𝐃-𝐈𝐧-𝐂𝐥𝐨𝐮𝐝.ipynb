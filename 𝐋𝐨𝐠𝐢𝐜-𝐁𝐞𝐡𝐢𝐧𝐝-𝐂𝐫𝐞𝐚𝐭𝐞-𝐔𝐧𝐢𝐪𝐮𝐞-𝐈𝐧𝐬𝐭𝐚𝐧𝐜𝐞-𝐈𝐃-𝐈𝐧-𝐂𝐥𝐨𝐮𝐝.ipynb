{
 "cells": [
  {
   "cell_type": "markdown",
   "metadata": {},
   "source": [
    "<h3 style=\"text-align:center;font-size:20px;font-weight:bolder\">𝐋𝐨𝐠𝐢𝐜 𝐁𝐞𝐡𝐢𝐧𝐝 𝐂𝐫𝐞𝐚𝐭𝐞 𝐔𝐧𝐢𝐪𝐮𝐞 𝐈𝐧𝐬𝐭𝐚𝐧𝐜𝐞 𝐈𝐃 𝐈𝐧 𝐂𝐥𝐨𝐮𝐝"
   ]
  },
  {
   "cell_type": "code",
   "execution_count": 17,
   "metadata": {},
   "outputs": [
    {
     "data": {
      "text/plain": [
       "'n1bhb6xhvsvww5y'"
      ]
     },
     "execution_count": 17,
     "metadata": {},
     "output_type": "execute_result"
    }
   ],
   "source": [
    "from string import ascii_lowercase,digits\n",
    "from random import choices, shuffle\n",
    "\n",
    "elements = list(ascii_lowercase + digits)\n",
    "''.join(choices(elements, k=15))"
   ]
  },
  {
   "cell_type": "markdown",
   "metadata": {},
   "source": [
    "---"
   ]
  }
 ],
 "metadata": {
  "kernelspec": {
   "display_name": "Python 3",
   "language": "python",
   "name": "python3"
  },
  "language_info": {
   "codemirror_mode": {
    "name": "ipython",
    "version": 3
   },
   "file_extension": ".py",
   "mimetype": "text/x-python",
   "name": "python",
   "nbconvert_exporter": "python",
   "pygments_lexer": "ipython3",
   "version": "3.8.10"
  }
 },
 "nbformat": 4,
 "nbformat_minor": 4
}
