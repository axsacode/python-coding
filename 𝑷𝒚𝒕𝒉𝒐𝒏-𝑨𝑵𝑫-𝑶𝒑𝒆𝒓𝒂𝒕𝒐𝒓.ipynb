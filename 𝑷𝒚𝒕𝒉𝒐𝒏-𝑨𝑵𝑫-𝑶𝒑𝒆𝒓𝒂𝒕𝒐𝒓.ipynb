{
 "cells": [
  {
   "cell_type": "markdown",
   "metadata": {},
   "source": [
    "<h3 style = 'text-align:center; font-size:20px; font-weight:bolder'>𝐏𝐲𝐭𝐡𝐨𝐧 𝐀𝐍𝐃 𝐎𝐩𝐞𝐫𝐚𝐭𝐨𝐫</h3>\n",
    "    <p style=\"padding-left:250px;color:black;font-size:15px;font-weight:bolder\">𝐈𝐟 𝐚𝐧𝐲 𝐜𝐨𝐧𝐝𝐢𝐭𝐢𝐨𝐧 𝐅𝐚𝐥𝐬𝐞(𝐅𝐚𝐢𝐥), 𝐈𝐭𝐬 𝐅𝐚𝐥𝐬𝐞(𝐅𝐚𝐢𝐥).</p>"
   ]
  },
  {
   "cell_type": "code",
   "execution_count": null,
   "metadata": {},
   "outputs": [],
   "source": []
  }
 ],
 "metadata": {
  "kernelspec": {
   "display_name": "Python 3",
   "language": "python",
   "name": "python3"
  },
  "language_info": {
   "codemirror_mode": {
    "name": "ipython",
    "version": 3
   },
   "file_extension": ".py",
   "mimetype": "text/x-python",
   "name": "python",
   "nbconvert_exporter": "python",
   "pygments_lexer": "ipython3",
   "version": "3.7.3"
  }
 },
 "nbformat": 4,
 "nbformat_minor": 2
}
