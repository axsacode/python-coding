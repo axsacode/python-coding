{
 "cells": [
  {
   "cell_type": "markdown",
   "metadata": {},
   "source": [
    "<h3 style=\"text-align:center;font-size:20px;font-weight:bolder\">𝐇𝐨𝐰 𝐓𝐨 𝐔𝐬𝐞 𝐅𝐮𝐧𝐭𝐢𝐨𝐧 𝐈𝐧𝐬𝐢𝐝𝐞 𝐚 𝐂𝐥𝐚𝐬𝐬(@𝐬𝐭𝐚𝐭𝐢𝐜𝐦𝐞𝐭𝐡𝐨𝐝)❓"
   ]
  },
  {
   "cell_type": "markdown",
   "metadata": {},
   "source": [
    "**What is @staticmethod?**     \n",
    "We can use function inside a class using @staticmethod.   \n",
    "@staticmethod is similar to a function. But function define inside a class.    \n",
    "We can call function using object.   "
   ]
  },
  {
   "cell_type": "code",
   "execution_count": 1,
   "metadata": {},
   "outputs": [
    {
     "data": {
      "text/plain": [
       "'Chennai'"
      ]
     },
     "execution_count": 1,
     "metadata": {},
     "output_type": "execute_result"
    }
   ],
   "source": [
    "class MyCity:\n",
    "    @staticmethod\n",
    "    def print_city(city):\n",
    "        return city\n",
    "    \n",
    "obj = MyCity()\n",
    "obj.print_city('Chennai')"
   ]
  },
  {
   "cell_type": "markdown",
   "metadata": {},
   "source": [
    "----"
   ]
  }
 ],
 "metadata": {
  "kernelspec": {
   "display_name": "Python 3",
   "language": "python",
   "name": "python3"
  },
  "language_info": {
   "codemirror_mode": {
    "name": "ipython",
    "version": 3
   },
   "file_extension": ".py",
   "mimetype": "text/x-python",
   "name": "python",
   "nbconvert_exporter": "python",
   "pygments_lexer": "ipython3",
   "version": "3.7.3"
  },
  "widgets": {
   "application/vnd.jupyter.widget-state+json": {
    "state": {},
    "version_major": 1,
    "version_minor": 0
   }
  }
 },
 "nbformat": 4,
 "nbformat_minor": 2
}
