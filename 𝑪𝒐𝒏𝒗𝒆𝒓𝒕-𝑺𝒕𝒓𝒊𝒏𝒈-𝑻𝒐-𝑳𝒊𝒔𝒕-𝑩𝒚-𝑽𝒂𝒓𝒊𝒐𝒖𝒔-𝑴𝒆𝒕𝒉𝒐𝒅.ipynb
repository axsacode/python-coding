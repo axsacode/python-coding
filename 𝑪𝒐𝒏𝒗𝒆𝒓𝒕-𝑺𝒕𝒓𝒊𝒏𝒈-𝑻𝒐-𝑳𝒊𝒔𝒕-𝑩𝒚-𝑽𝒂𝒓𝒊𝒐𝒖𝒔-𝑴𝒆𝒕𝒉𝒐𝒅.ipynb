{
 "cells": [
  {
   "cell_type": "markdown",
   "metadata": {},
   "source": [
    "<h3 style = 'text-align:center; font-size:20px; font-weight:bolder'>𝐂𝐨𝐧𝐯𝐞𝐫𝐭 𝐒𝐭𝐫𝐢𝐧𝐠 𝐓𝐨 𝐋𝐢𝐬𝐭 𝐁𝐲 𝐕𝐚𝐫𝐢𝐨𝐮𝐬 𝐌𝐞𝐭𝐡𝐨𝐝"
   ]
  },
  {
   "cell_type": "markdown",
   "metadata": {},
   "source": [
    "**𝑴𝒆𝒕𝒉𝒐𝒅:1**"
   ]
  },
  {
   "cell_type": "code",
   "execution_count": 1,
   "metadata": {},
   "outputs": [
    {
     "data": {
      "text/plain": [
       "['P', 'y', 't', 'h', 'o', 'n']"
      ]
     },
     "execution_count": 1,
     "metadata": {},
     "output_type": "execute_result"
    }
   ],
   "source": [
    "lang = 'Python'\n",
    "list(lang)"
   ]
  },
  {
   "cell_type": "markdown",
   "metadata": {},
   "source": [
    "**𝑴𝒆𝒕𝒉𝒐𝒅:2**"
   ]
  },
  {
   "cell_type": "code",
   "execution_count": 2,
   "metadata": {},
   "outputs": [
    {
     "data": {
      "text/plain": [
       "['P', 'y', 't', 'h', 'o', 'n']"
      ]
     },
     "execution_count": 2,
     "metadata": {},
     "output_type": "execute_result"
    }
   ],
   "source": [
    "lang = 'Python'\n",
    "[i for i in lang]"
   ]
  },
  {
   "cell_type": "markdown",
   "metadata": {},
   "source": [
    "**𝑴𝒆𝒕𝒉𝒐𝒅:3**"
   ]
  },
  {
   "cell_type": "code",
   "execution_count": 4,
   "metadata": {},
   "outputs": [
    {
     "data": {
      "text/plain": [
       "['P', 'y', 't', 'h', 'o', 'n']"
      ]
     },
     "execution_count": 4,
     "metadata": {},
     "output_type": "execute_result"
    }
   ],
   "source": [
    "lang = 'Python'\n",
    "tmp = []\n",
    "\n",
    "for i in lang:\n",
    "    tmp += i \n",
    "tmp"
   ]
  },
  {
   "cell_type": "markdown",
   "metadata": {},
   "source": [
    "---"
   ]
  }
 ],
 "metadata": {
  "kernelspec": {
   "display_name": "Python 3",
   "language": "python",
   "name": "python3"
  },
  "language_info": {
   "codemirror_mode": {
    "name": "ipython",
    "version": 3
   },
   "file_extension": ".py",
   "mimetype": "text/x-python",
   "name": "python",
   "nbconvert_exporter": "python",
   "pygments_lexer": "ipython3",
   "version": "3.7.3"
  }
 },
 "nbformat": 4,
 "nbformat_minor": 2
}
