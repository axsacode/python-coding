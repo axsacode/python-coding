{
 "cells": [
  {
   "cell_type": "markdown",
   "metadata": {},
   "source": [
    "<h3 style = 'text-align:center; text-size:20px; font-weight:bolder'>𝐂𝐨𝐧𝐯𝐞𝐫𝐭 𝐇𝐮𝐦𝐚𝐧 𝐓𝐢𝐦𝐞 𝐓𝐨 𝐔𝐧𝐢𝐱 𝐓𝐢𝐦𝐞"
   ]
  },
  {
   "cell_type": "code",
   "execution_count": 11,
   "metadata": {},
   "outputs": [
    {
     "name": "stdout",
     "output_type": "stream",
     "text": [
      "1688265000.0\n"
     ]
    }
   ],
   "source": [
    "from time import strptime,mktime\n",
    "\n",
    "time_string = '2023-07-02 08:00:00'\n",
    "rslt =strptime(time_string, \"%Y-%m-%d %H:%M:%S\")\n",
    "print(mktime(rslt))"
   ]
  },
  {
   "cell_type": "markdown",
   "metadata": {},
   "source": [
    "---"
   ]
  }
 ],
 "metadata": {
  "kernelspec": {
   "display_name": "Python 3",
   "language": "python",
   "name": "python3"
  },
  "language_info": {
   "codemirror_mode": {
    "name": "ipython",
    "version": 3
   },
   "file_extension": ".py",
   "mimetype": "text/x-python",
   "name": "python",
   "nbconvert_exporter": "python",
   "pygments_lexer": "ipython3",
   "version": "3.7.3"
  }
 },
 "nbformat": 4,
 "nbformat_minor": 2
}
