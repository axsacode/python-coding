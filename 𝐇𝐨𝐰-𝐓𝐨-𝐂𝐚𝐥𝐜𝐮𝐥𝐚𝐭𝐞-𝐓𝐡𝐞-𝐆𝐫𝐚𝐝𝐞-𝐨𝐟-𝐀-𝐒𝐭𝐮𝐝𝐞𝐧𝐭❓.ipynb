{
 "cells": [
  {
   "cell_type": "markdown",
   "metadata": {},
   "source": [
    "<h3 style=\"text-align:center;font-size:20px;font-weight:bolder\">𝐇𝐨𝐰 𝐓𝐨 𝐂𝐚𝐥𝐜𝐮𝐥𝐚𝐭𝐞 𝐓𝐡𝐞 𝐆𝐫𝐚𝐝𝐞 𝐨𝐟 𝐀 𝐒𝐭𝐮𝐝𝐞𝐧𝐭❓"
   ]
  },
  {
   "cell_type": "code",
   "execution_count": 15,
   "metadata": {},
   "outputs": [
    {
     "name": "stdout",
     "output_type": "stream",
     "text": [
      "Enter Mark: 9\n"
     ]
    },
    {
     "data": {
      "text/plain": [
       "'C Grade.'"
      ]
     },
     "execution_count": 15,
     "metadata": {},
     "output_type": "execute_result"
    }
   ],
   "source": [
    "from bisect import bisect\n",
    "\n",
    "marks = [100, 70, 50, 35, 0]\n",
    "grade = ['A', 'B', 'C', '']\n",
    "\n",
    "def cal_grade(m):\n",
    "    idx = bisect(marks, m) - 1\n",
    "    return f'{grade[idx - 1]} Grade.'\n",
    "\n",
    "stu_mark = int(input('Enter Mark: '))\n",
    "cal_grade(stu_mark)"
   ]
  },
  {
   "cell_type": "markdown",
   "metadata": {},
   "source": [
    "---------"
   ]
  }
 ],
 "metadata": {
  "kernelspec": {
   "display_name": "Python 3",
   "language": "python",
   "name": "python3"
  },
  "language_info": {
   "codemirror_mode": {
    "name": "ipython",
    "version": 3
   },
   "file_extension": ".py",
   "mimetype": "text/x-python",
   "name": "python",
   "nbconvert_exporter": "python",
   "pygments_lexer": "ipython3",
   "version": "3.7.3"
  }
 },
 "nbformat": 4,
 "nbformat_minor": 2
}
