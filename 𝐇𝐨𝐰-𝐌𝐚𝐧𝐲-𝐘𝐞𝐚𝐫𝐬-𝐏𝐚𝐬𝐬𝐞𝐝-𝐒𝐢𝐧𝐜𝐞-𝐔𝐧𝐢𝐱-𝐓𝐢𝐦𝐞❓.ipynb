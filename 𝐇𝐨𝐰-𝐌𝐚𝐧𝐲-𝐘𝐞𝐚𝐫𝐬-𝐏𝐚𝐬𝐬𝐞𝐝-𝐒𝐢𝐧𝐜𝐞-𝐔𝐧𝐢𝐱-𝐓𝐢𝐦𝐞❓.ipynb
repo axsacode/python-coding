{
 "cells": [
  {
   "cell_type": "markdown",
   "metadata": {},
   "source": [
    "<h3 style = 'text-align:center; font-size:20px; font-weight:bolder'>𝐇𝐨𝐰 𝐌𝐚𝐧𝐲 𝐘𝐞𝐚𝐫𝐬 𝐏𝐚𝐬𝐬𝐞𝐝 𝐒𝐢𝐧𝐜𝐞 𝐔𝐧𝐢𝐱 𝐓𝐢𝐦𝐞❓"
   ]
  },
  {
   "cell_type": "code",
   "execution_count": 8,
   "metadata": {},
   "outputs": [
    {
     "data": {
      "text/plain": [
       "53"
      ]
     },
     "execution_count": 8,
     "metadata": {},
     "output_type": "execute_result"
    }
   ],
   "source": [
    "from datetime import timedelta\n",
    "from time import time\n",
    "\n",
    "round(time()/timedelta(days = 365.24).total_seconds())\n"
   ]
  },
  {
   "cell_type": "markdown",
   "metadata": {},
   "source": [
    "---"
   ]
  }
 ],
 "metadata": {
  "kernelspec": {
   "display_name": "Python 3",
   "language": "python",
   "name": "python3"
  },
  "language_info": {
   "codemirror_mode": {
    "name": "ipython",
    "version": 3
   },
   "file_extension": ".py",
   "mimetype": "text/x-python",
   "name": "python",
   "nbconvert_exporter": "python",
   "pygments_lexer": "ipython3",
   "version": "3.7.3"
  }
 },
 "nbformat": 4,
 "nbformat_minor": 2
}
