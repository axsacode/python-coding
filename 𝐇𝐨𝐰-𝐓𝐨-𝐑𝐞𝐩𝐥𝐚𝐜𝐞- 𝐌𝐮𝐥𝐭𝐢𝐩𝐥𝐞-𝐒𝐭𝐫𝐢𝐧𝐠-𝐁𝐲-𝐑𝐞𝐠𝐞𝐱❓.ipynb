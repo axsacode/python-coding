{
 "cells": [
  {
   "cell_type": "markdown",
   "metadata": {},
   "source": [
    "<h3 style=\"text-align:center;font-size:20px;font-weight:bolder\">𝐇𝐨𝐰 𝐓𝐨 𝐑𝐞𝐩𝐥𝐚𝐜𝐞 𝐌𝐮𝐥𝐭𝐢𝐩𝐥𝐞 𝐒𝐭𝐫𝐢𝐧𝐠 𝐁𝐲 𝐑𝐞𝐠𝐞𝐱❓"
   ]
  },
  {
   "cell_type": "code",
   "execution_count": 1,
   "metadata": {},
   "outputs": [
    {
     "data": {
      "text/plain": [
       "'Linux and Linux is Good Operating System.'"
      ]
     },
     "execution_count": 1,
     "metadata": {},
     "output_type": "execute_result"
    }
   ],
   "source": [
    "from re import sub\n",
    "\n",
    "text = 'Unix and Windows is Good Operating System.'\n",
    "sub(r'Unix|Windows', 'Linux', text)"
   ]
  },
  {
   "cell_type": "markdown",
   "metadata": {},
   "source": [
    "---"
   ]
  }
 ],
 "metadata": {
  "kernelspec": {
   "display_name": "Python 3",
   "language": "python",
   "name": "python3"
  },
  "language_info": {
   "codemirror_mode": {
    "name": "ipython",
    "version": 3
   },
   "file_extension": ".py",
   "mimetype": "text/x-python",
   "name": "python",
   "nbconvert_exporter": "python",
   "pygments_lexer": "ipython3",
   "version": "3.7.3"
  }
 },
 "nbformat": 4,
 "nbformat_minor": 2
}
