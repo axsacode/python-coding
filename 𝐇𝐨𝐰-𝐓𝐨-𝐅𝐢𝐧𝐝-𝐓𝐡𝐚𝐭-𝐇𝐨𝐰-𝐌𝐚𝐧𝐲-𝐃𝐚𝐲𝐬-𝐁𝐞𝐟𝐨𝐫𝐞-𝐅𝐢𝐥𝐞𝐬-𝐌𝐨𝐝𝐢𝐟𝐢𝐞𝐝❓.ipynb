{
 "cells": [
  {
   "cell_type": "markdown",
   "metadata": {},
   "source": [
    "<h3 style=\"text-align:center;font-size:20px;font-weight:bolder\">𝐇𝐨𝐰 𝐓𝐨 𝐅𝐢𝐧𝐝 𝐓𝐡𝐚𝐭 𝐇𝐨𝐰 𝐌𝐚𝐧𝐲 𝐃𝐚𝐲𝐬 𝐀𝐠𝐨 𝐅𝐢𝐥𝐞𝐬 𝐌𝐨𝐝𝐢𝐟𝐢𝐞𝐝❓"
   ]
  },
  {
   "cell_type": "code",
   "execution_count": 13,
   "metadata": {},
   "outputs": [
    {
     "name": "stdout",
     "output_type": "stream",
     "text": [
      "DevOps.pdf ==> 231 days before.\n",
      "Grammar Handbook.pdf ==> 30 days before.\n",
      "String lenght.txt ==> 1 days before.\n",
      "switch vs router ==> 4 days before.\n",
      "Ansible.pdf ==> 231 days before.\n",
      "Learn Python.jpg ==> 0 days before.\n",
      "How Generate UUID.txt ==> 2 days before.\n"
     ]
    }
   ],
   "source": [
    "from datetime import date\n",
    "from pathlib import Path\n",
    "\n",
    "P = Path('/home/pi/Upload/Info')\n",
    "file = [(i,date.today()- date.fromtimestamp(i.stat()[-2])) \n",
    "     for i in P.iterdir()]\n",
    "\n",
    "for x,y in file:\n",
    "    print('{} ==> {} days before.'.format(x.name,y.days))"
   ]
  },
  {
   "cell_type": "markdown",
   "metadata": {},
   "source": [
    "---"
   ]
  }
 ],
 "metadata": {
  "kernelspec": {
   "display_name": "Python 3",
   "language": "python",
   "name": "python3"
  },
  "language_info": {
   "codemirror_mode": {
    "name": "ipython",
    "version": 3
   },
   "file_extension": ".py",
   "mimetype": "text/x-python",
   "name": "python",
   "nbconvert_exporter": "python",
   "pygments_lexer": "ipython3",
   "version": "3.7.3"
  }
 },
 "nbformat": 4,
 "nbformat_minor": 2
}
