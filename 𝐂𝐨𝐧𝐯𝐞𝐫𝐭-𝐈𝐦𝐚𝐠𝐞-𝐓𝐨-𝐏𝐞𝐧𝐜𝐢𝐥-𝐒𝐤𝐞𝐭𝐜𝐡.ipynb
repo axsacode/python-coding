{
 "cells": [
  {
   "cell_type": "markdown",
   "metadata": {},
   "source": [
    "<h3 style=\"text-align:center;font-size:20px;font-weight:bolder\">𝐂𝐨𝐧𝐯𝐞𝐫𝐭 𝐈𝐦𝐚𝐠𝐞 𝐓𝐨 𝐏𝐞𝐧𝐜𝐢𝐥 𝐒𝐤𝐞𝐭𝐜𝐡"
   ]
  },
  {
   "cell_type": "markdown",
   "metadata": {},
   "source": [
    "**Step 1:** Find an image that we want to convert into a pencil sketch. I am going to use the image of a Baby.\n",
    "\n",
    "**Step 2:** Read in the Red, Blue, Green (RBG) image and then convert it to a grayscale image.    \n",
    "This effectively makes the image a classic “black and white” photo. This will be our “greyscale image”.\n",
    "\n",
    "**Step 3:** We are going to invert the “grey scaled image” also known as getting the image negative,     \n",
    "this will be our “inverted greyscale image”. Inversion can be used to enhance details.\n",
    "\n",
    "**Step 4:** Use a Gaussian function to blur the image.     \n",
    "image processing, a Gaussian blur (also known as Gaussian smoothing) is the result of blurring an image by a Gaussian function.\n",
    "\n",
    "**Step 5:** Invert the newly created “blurred image”, this will be called the “inverted blurred image”.\n",
    "\n",
    "**Step 6:** Now we are going to create the pencil sketch image by blending the “greyscale image” with the “inverted blurred image”.     \n",
    "This can be done by dividing the “grayscale image” by the “inverted blurred image”.   \n",
    "Since images are just arrays we can easily do this in programming by using the divide function from the cv2 library\n",
    "\n"
   ]
  },
  {
   "cell_type": "code",
   "execution_count": null,
   "metadata": {},
   "outputs": [],
   "source": [
    "import cv2\n",
    "image = cv2.imread(\"/home/pi/Upload/photo.jpg\")\n",
    "gray_image = cv2.cvtColor(image, cv2.COLOR_BGR2GRAY)\n",
    "cv2.imwrite(\"gray.png\", gray_image)\n",
    "inverted_image = 255 - gray_image\n",
    "cv2.imwrite(\"inv.png\", inverted_image)\n",
    "blurred = cv2.GaussianBlur(inverted_image, (21, 21), 0)\n",
    "cv2.imwrite(\"blur.png\", blurred)\n",
    "inverted_blurred = 255 - blurred\n",
    "cv2.imwrite(\"invblur.png\", inverted_blurred)\n",
    "pencil_sketch = cv2.divide(gray_image, inverted_blurred, scale=256.0)\n",
    "cv2.imwrite(\"Sketch.png\", pencil_sketch)"
   ]
  },
  {
   "cell_type": "markdown",
   "metadata": {},
   "source": [
    "---"
   ]
  }
 ],
 "metadata": {
  "kernelspec": {
   "display_name": "Python 3",
   "language": "python",
   "name": "python3"
  },
  "language_info": {
   "codemirror_mode": {
    "name": "ipython",
    "version": 3
   },
   "file_extension": ".py",
   "mimetype": "text/x-python",
   "name": "python",
   "nbconvert_exporter": "python",
   "pygments_lexer": "ipython3",
   "version": "3.7.3"
  }
 },
 "nbformat": 4,
 "nbformat_minor": 2
}
