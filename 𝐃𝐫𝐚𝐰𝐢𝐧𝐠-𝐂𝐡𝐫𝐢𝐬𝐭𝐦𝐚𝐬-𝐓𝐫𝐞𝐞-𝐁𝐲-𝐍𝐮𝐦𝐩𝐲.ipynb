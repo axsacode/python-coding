{
 "cells": [
  {
   "cell_type": "markdown",
   "metadata": {},
   "source": [
    "<h3 style = \"text-align:center;font-size:20px;font-weight:bolder\">𝐃𝐫𝐚𝐰𝐢𝐧𝐠 𝐂𝐡𝐫𝐢𝐬𝐭𝐦𝐚𝐬 𝐓𝐫𝐞𝐞 𝐁𝐲 𝐍𝐮𝐦𝐩𝐲"
   ]
  },
  {
   "cell_type": "code",
   "execution_count": 1,
   "metadata": {},
   "outputs": [
    {
     "name": "stdout",
     "output_type": "stream",
     "text": [
      "               *\n",
      "              ***\n",
      "             *****\n",
      "            *******\n",
      "           *********\n",
      "          ***********\n",
      "         *************\n",
      "        ***************\n",
      "       *****************\n",
      "               ||\n",
      "               ||\n",
      "            \\\\====//\n"
     ]
    }
   ],
   "source": [
    "import numpy as np\n",
    "\n",
    "X = np.arange(7, 16)\n",
    "Y = np.arange(1,18, 2)\n",
    "Z = np.column_stack((X[::-1], Y))\n",
    "\n",
    "for i,j in Z:\n",
    "    print(' '*i + '*'*j)\n",
    "for r in range(2):\n",
    "    print(' '*14, '||')\n",
    "print(' '*12 + '\\\\\\====//')"
   ]
  },
  {
   "cell_type": "markdown",
   "metadata": {},
   "source": [
    "---"
   ]
  }
 ],
 "metadata": {
  "kernelspec": {
   "display_name": "Python 3",
   "language": "python",
   "name": "python3"
  },
  "language_info": {
   "codemirror_mode": {
    "name": "ipython",
    "version": 3
   },
   "file_extension": ".py",
   "mimetype": "text/x-python",
   "name": "python",
   "nbconvert_exporter": "python",
   "pygments_lexer": "ipython3",
   "version": "3.7.3"
  }
 },
 "nbformat": 4,
 "nbformat_minor": 2
}
